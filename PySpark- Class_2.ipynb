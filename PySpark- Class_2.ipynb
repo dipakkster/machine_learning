{
 "cells": [
  {
   "cell_type": "code",
   "execution_count": 0,
   "metadata": {
    "application/vnd.databricks.v1+cell": {
     "cellMetadata": {
      "byteLimit": 2048000,
      "rowLimit": 10000
     },
     "inputWidgets": {},
     "nuid": "233c8638-f06a-4f4b-af5d-0c3a31481e94",
     "showTitle": false,
     "title": ""
    }
   },
   "outputs": [
    {
     "output_type": "stream",
     "name": "stdout",
     "output_type": "stream",
     "text": [
      "+-----------------+-------------------+-----+\n|DEST_COUNTRY_NAME|ORIGIN_COUNTRY_NAME|count|\n+-----------------+-------------------+-----+\n|    United States|            Romania|    1|\n|    United States|            Ireland|  264|\n|    United States|              India|   69|\n|            Egypt|      United States|   24|\n|Equatorial Guinea|      United States|    1|\n+-----------------+-------------------+-----+\nonly showing top 5 rows\n\n"
     ]
    }
   ],
   "source": [
    "flight_df = spark.read.format(\"csv\")\\\n",
    "                .option(\"header\",\"True\")\\\n",
    "                .option(\"inferschema\",\"True\")\\\n",
    "                .option(\"mode\",\"FAILFAST\")\\\n",
    "                .load(\"/FileStore/tables/2010_summary.csv\")\n",
    "flight_df.show(5)"
   ]
  },
  {
   "cell_type": "code",
   "execution_count": 0,
   "metadata": {
    "application/vnd.databricks.v1+cell": {
     "cellMetadata": {
      "byteLimit": 2048000,
      "rowLimit": 10000
     },
     "inputWidgets": {},
     "nuid": "fd2d2adf-ab3e-4e89-9c3a-595f97c7222d",
     "showTitle": false,
     "title": ""
    }
   },
   "outputs": [
    {
     "output_type": "stream",
     "name": "stdout",
     "output_type": "stream",
     "text": [
      "Out[7]: <bound method DataFrame.printSchema of DataFrame[DEST_COUNTRY_NAME: string, ORIGIN_COUNTRY_NAME: string, count: int]>"
     ]
    }
   ],
   "source": [
    "flight_df.printSchema"
   ]
  },
  {
   "cell_type": "code",
   "execution_count": 0,
   "metadata": {
    "application/vnd.databricks.v1+cell": {
     "cellMetadata": {
      "byteLimit": 2048000,
      "rowLimit": 10000
     },
     "inputWidgets": {},
     "nuid": "963286fc-0964-43ab-9306-52226861ab9f",
     "showTitle": false,
     "title": ""
    }
   },
   "outputs": [],
   "source": [
    "data = [\n",
    "    (\"James\", \"\", \"Smith\", \"1980-05-12\", \"M\", 60000),\n",
    "    (\"Emma\", \"Sophia\", \"Johnson\", \"1992-08-25\", \"F\", 75000),\n",
    "    (\"Michael\", \"\", \"Williams\", \"1975-11-03\", \"M\", 90000),\n",
    "    (\"Olivia\", \"Grace\", \"Jones\", \"1988-03-17\", \"F\", 80000),\n",
    "    (\"William\", \"\", \"Brown\", \"1983-09-30\", \"M\", 70000)\n",
    "]\n",
    "\n",
    "columns = [\"first_name\",\"middle_name\",\"last_name\",\"dob\",\"gender\",\"salary\"]\n",
    "\n",
    "df = spark.createDataFrame(data = data,schema = columns)"
   ]
  },
  {
   "cell_type": "code",
   "execution_count": 0,
   "metadata": {
    "application/vnd.databricks.v1+cell": {
     "cellMetadata": {
      "byteLimit": 2048000,
      "rowLimit": 10000
     },
     "inputWidgets": {},
     "nuid": "781759ca-f415-4e1c-bb9d-65aaa8962f77",
     "showTitle": false,
     "title": ""
    }
   },
   "outputs": [
    {
     "output_type": "stream",
     "name": "stdout",
     "output_type": "stream",
     "text": [
      "+----------+-----------+---------+----------+------+------+\n|first_name|middle_name|last_name|       dob|gender|salary|\n+----------+-----------+---------+----------+------+------+\n|     James|           |    Smith|1980-05-12|     M| 60000|\n|      Emma|     Sophia|  Johnson|1992-08-25|     F| 75000|\n|   Michael|           | Williams|1975-11-03|     M| 90000|\n|    Olivia|      Grace|    Jones|1988-03-17|     F| 80000|\n|   William|           |    Brown|1983-09-30|     M| 70000|\n+----------+-----------+---------+----------+------+------+\n\n"
     ]
    }
   ],
   "source": [
    "df.show()"
   ]
  },
  {
   "cell_type": "code",
   "execution_count": 0,
   "metadata": {
    "application/vnd.databricks.v1+cell": {
     "cellMetadata": {
      "byteLimit": 2048000,
      "rowLimit": 10000
     },
     "inputWidgets": {},
     "nuid": "1f2e4822-68e9-448d-bde6-0ab467b6768f",
     "showTitle": true,
     "title": "Read a csv file uploaded in databricks - spark session"
    }
   },
   "outputs": [],
   "source": [
    "df_employee = spark.read.format(\"csv\")\\\n",
    "    .option(\"inferschema\",\"True\")\\\n",
    "        .option(\"mode\",\"Failfast\")\\\n",
    "            .option(\"header\",\"True\")\\\n",
    "                .load(\"/FileStore/tables/2010_summary.csv\")\n"
   ]
  },
  {
   "cell_type": "code",
   "execution_count": 0,
   "metadata": {
    "application/vnd.databricks.v1+cell": {
     "cellMetadata": {
      "byteLimit": 2048000,
      "rowLimit": 10000
     },
     "inputWidgets": {},
     "nuid": "76e4f3b1-6284-4b78-bccb-43c43cbef09e",
     "showTitle": false,
     "title": ""
    }
   },
   "outputs": [
    {
     "output_type": "stream",
     "name": "stdout",
     "output_type": "stream",
     "text": [
      "+-----------------+-------------------+-----+\n|DEST_COUNTRY_NAME|ORIGIN_COUNTRY_NAME|count|\n+-----------------+-------------------+-----+\n|    United States|            Romania|    1|\n|    United States|            Ireland|  264|\n|    United States|              India|   69|\n|            Egypt|      United States|   24|\n|Equatorial Guinea|      United States|    1|\n+-----------------+-------------------+-----+\nonly showing top 5 rows\n\n"
     ]
    }
   ],
   "source": [
    "df_employee.show(5)"
   ]
  },
  {
   "cell_type": "code",
   "execution_count": 0,
   "metadata": {
    "application/vnd.databricks.v1+cell": {
     "cellMetadata": {
      "byteLimit": 2048000,
      "rowLimit": 10000
     },
     "inputWidgets": {},
     "nuid": "b5cb83dc-b8cb-4c88-bd65-0e143a4d8810",
     "showTitle": false,
     "title": ""
    }
   },
   "outputs": [
    {
     "output_type": "stream",
     "name": "stdout",
     "output_type": "stream",
     "text": [
      "Out[6]: <bound method DataFrame.printSchema of DataFrame[first_name: string, middle_name: string, last_name: string, dob: string, gender: string, salary: bigint]>"
     ]
    }
   ],
   "source": [
    "df.printSchema"
   ]
  },
  {
   "cell_type": "code",
   "execution_count": 0,
   "metadata": {
    "application/vnd.databricks.v1+cell": {
     "cellMetadata": {
      "byteLimit": 2048000,
      "rowLimit": 10000
     },
     "inputWidgets": {},
     "nuid": "3671d098-650b-475e-90aa-83ca8790236f",
     "showTitle": false,
     "title": ""
    }
   },
   "outputs": [],
   "source": [
    "df_employee.write.format(\"csv\").save(\"/FileStore/tables/employee_data1.csv\")"
   ]
  },
  {
   "cell_type": "code",
   "execution_count": 0,
   "metadata": {
    "application/vnd.databricks.v1+cell": {
     "cellMetadata": {
      "byteLimit": 2048000,
      "rowLimit": 10000
     },
     "inputWidgets": {},
     "nuid": "fff080f2-34c9-41e3-894d-5a9d09072d0b",
     "showTitle": false,
     "title": ""
    }
   },
   "outputs": [],
   "source": [
    "df_employee.write.format(\"parquet\").save(\"/FileStore/tables/2010_summary.parquet\")"
   ]
  },
  {
   "cell_type": "code",
   "execution_count": 0,
   "metadata": {
    "application/vnd.databricks.v1+cell": {
     "cellMetadata": {
      "byteLimit": 2048000,
      "rowLimit": 10000
     },
     "inputWidgets": {},
     "nuid": "f96d66db-a9a9-4f10-966f-7f6376b1a945",
     "showTitle": false,
     "title": ""
    }
   },
   "outputs": [
    {
     "output_type": "display_data",
     "data": {
      "text/html": [
       "<style scoped>\n",
       "  .table-result-container {\n",
       "    max-height: 300px;\n",
       "    overflow: auto;\n",
       "  }\n",
       "  table, th, td {\n",
       "    border: 1px solid black;\n",
       "    border-collapse: collapse;\n",
       "  }\n",
       "  th, td {\n",
       "    padding: 5px;\n",
       "  }\n",
       "  th {\n",
       "    text-align: left;\n",
       "  }\n",
       "</style><div class='table-result-container'><table class='table-result'><thead style='background-color: white'><tr><th>DEST_COUNTRY_NAME</th><th>ORIGIN_COUNTRY_NAME</th><th>count</th></tr></thead><tbody><tr><td>United States</td><td>Romania</td><td>1</td></tr><tr><td>United States</td><td>Ireland</td><td>264</td></tr><tr><td>United States</td><td>India</td><td>69</td></tr><tr><td>Egypt</td><td>United States</td><td>24</td></tr><tr><td>Equatorial Guinea</td><td>United States</td><td>1</td></tr><tr><td>United States</td><td>Singapore</td><td>25</td></tr><tr><td>United States</td><td>Grenada</td><td>54</td></tr><tr><td>Costa Rica</td><td>United States</td><td>477</td></tr><tr><td>Senegal</td><td>United States</td><td>29</td></tr><tr><td>United States</td><td>Marshall Islands</td><td>44</td></tr><tr><td>Guyana</td><td>United States</td><td>17</td></tr><tr><td>United States</td><td>Sint Maarten</td><td>53</td></tr><tr><td>Malta</td><td>United States</td><td>1</td></tr><tr><td>Bolivia</td><td>United States</td><td>46</td></tr><tr><td>Anguilla</td><td>United States</td><td>21</td></tr><tr><td>Turks and Caicos Islands</td><td>United States</td><td>136</td></tr><tr><td>United States</td><td>Afghanistan</td><td>2</td></tr><tr><td>Saint Vincent and the Grenadines</td><td>United States</td><td>1</td></tr><tr><td>Italy</td><td>United States</td><td>390</td></tr><tr><td>United States</td><td>Russia</td><td>156</td></tr><tr><td>United States</td><td>Federated States of Micronesia</td><td>48</td></tr><tr><td>Pakistan</td><td>United States</td><td>9</td></tr><tr><td>United States</td><td>Netherlands</td><td>570</td></tr><tr><td>Iceland</td><td>United States</td><td>118</td></tr><tr><td>Marshall Islands</td><td>United States</td><td>77</td></tr><tr><td>Luxembourg</td><td>United States</td><td>91</td></tr><tr><td>Honduras</td><td>United States</td><td>391</td></tr><tr><td>The Bahamas</td><td>United States</td><td>903</td></tr><tr><td>El Salvador</td><td>United States</td><td>519</td></tr><tr><td>United States</td><td>Senegal</td><td>46</td></tr><tr><td>Samoa</td><td>United States</td><td>28</td></tr><tr><td>United States</td><td>Angola</td><td>18</td></tr><tr><td>Kazakhstan</td><td>United States</td><td>3</td></tr><tr><td>Switzerland</td><td>United States</td><td>315</td></tr><tr><td>United States</td><td>Anguilla</td><td>20</td></tr><tr><td>Sint Maarten</td><td>United States</td><td>61</td></tr><tr><td>Hong Kong</td><td>United States</td><td>252</td></tr><tr><td>Trinidad and Tobago</td><td>United States</td><td>187</td></tr><tr><td>Latvia</td><td>United States</td><td>12</td></tr><tr><td>United States</td><td>Ecuador</td><td>345</td></tr><tr><td>Slovakia</td><td>United States</td><td>1</td></tr><tr><td>Suriname</td><td>United States</td><td>12</td></tr><tr><td>Mexico</td><td>United States</td><td>6200</td></tr><tr><td>United States</td><td>Cyprus</td><td>1</td></tr><tr><td>Ecuador</td><td>United States</td><td>272</td></tr><tr><td>United States</td><td>Bosnia and Herzegovina</td><td>1</td></tr><tr><td>United States</td><td>Portugal</td><td>104</td></tr><tr><td>United States</td><td>Costa Rica</td><td>501</td></tr><tr><td>United States</td><td>Guatemala</td><td>333</td></tr><tr><td>United States</td><td>Suriname</td><td>13</td></tr><tr><td>Colombia</td><td>United States</td><td>785</td></tr><tr><td>United States</td><td>Cape Verde</td><td>18</td></tr><tr><td>United States</td><td>Jamaica</td><td>757</td></tr><tr><td>United States</td><td>Malaysia</td><td>3</td></tr><tr><td>Norway</td><td>United States</td><td>29</td></tr><tr><td>United States</td><td>Morocco</td><td>16</td></tr><tr><td>Thailand</td><td>United States</td><td>16</td></tr><tr><td>Venezuela</td><td>United States</td><td>377</td></tr><tr><td>United States</td><td>Palau</td><td>30</td></tr><tr><td>United States</td><td>Samoa</td><td>28</td></tr><tr><td>United States</td><td>Algeria</td><td>1</td></tr><tr><td>United States</td><td>Venezuela</td><td>341</td></tr><tr><td>Panama</td><td>United States</td><td>355</td></tr><tr><td>United States</td><td>Finland</td><td>20</td></tr><tr><td>United States</td><td>Chile</td><td>176</td></tr><tr><td>Morocco</td><td>United States</td><td>16</td></tr><tr><td>United States</td><td>Greece</td><td>61</td></tr><tr><td>Antigua and Barbuda</td><td>United States</td><td>123</td></tr><tr><td>Azerbaijan</td><td>United States</td><td>1</td></tr><tr><td>United States</td><td>The Bahamas</td><td>959</td></tr><tr><td>New Zealand</td><td>United States</td><td>86</td></tr><tr><td>Liberia</td><td>United States</td><td>1</td></tr><tr><td>United States</td><td>Hong Kong</td><td>293</td></tr><tr><td>Hungary</td><td>United States</td><td>14</td></tr><tr><td>United States</td><td>China</td><td>505</td></tr><tr><td>United States</td><td>Vietnam</td><td>1</td></tr><tr><td>Sweden</td><td>United States</td><td>65</td></tr><tr><td>United States</td><td>Kuwait</td><td>25</td></tr><tr><td>United States</td><td>Dominican Republic</td><td>1150</td></tr><tr><td>United States</td><td>Egypt</td><td>25</td></tr><tr><td>Israel</td><td>United States</td><td>117</td></tr><tr><td>United States</td><td>United States</td><td>348113</td></tr><tr><td>United States</td><td>Luxembourg</td><td>90</td></tr><tr><td>Ethiopia</td><td>United States</td><td>12</td></tr><tr><td>United States</td><td>Poland</td><td>61</td></tr><tr><td>Martinique</td><td>United States</td><td>23</td></tr><tr><td>Saint Barthelemy</td><td>United States</td><td>28</td></tr><tr><td>United States</td><td>Saint Barthelemy</td><td>29</td></tr><tr><td>United States</td><td>Turkey</td><td>87</td></tr><tr><td>Barbados</td><td>United States</td><td>130</td></tr><tr><td>United States</td><td>Estonia</td><td>1</td></tr><tr><td>United States</td><td>Azerbaijan</td><td>1</td></tr><tr><td>Germany</td><td>United States</td><td>1392</td></tr><tr><td>Kyrgyzstan</td><td>United States</td><td>2</td></tr><tr><td>United States</td><td>South Korea</td><td>621</td></tr><tr><td>United States</td><td>El Salvador</td><td>464</td></tr><tr><td>Ireland</td><td>United States</td><td>231</td></tr><tr><td>United States</td><td>Hungary</td><td>15</td></tr><tr><td>United States</td><td>Serbia</td><td>1</td></tr><tr><td>Malaysia</td><td>United States</td><td>1</td></tr><tr><td>United States</td><td>Panama</td><td>363</td></tr><tr><td>United States</td><td>Ethiopia</td><td>12</td></tr><tr><td>United States</td><td>Aruba</td><td>349</td></tr><tr><td>United States</td><td>Thailand</td><td>13</td></tr><tr><td>United States</td><td>Netherlands Antilles</td><td>289</td></tr><tr><td>United States</td><td>Turks and Caicos Islands</td><td>147</td></tr><tr><td>Cyprus</td><td>United States</td><td>2</td></tr><tr><td>United States</td><td>Pakistan</td><td>15</td></tr><tr><td>United States</td><td>Honduras</td><td>393</td></tr><tr><td>Qatar</td><td>United States</td><td>41</td></tr><tr><td>Fiji</td><td>United States</td><td>53</td></tr><tr><td>Saint Kitts and Nevis</td><td>United States</td><td>113</td></tr><tr><td>Taiwan</td><td>United States</td><td>275</td></tr><tr><td>Haiti</td><td>United States</td><td>238</td></tr><tr><td>Kuwait</td><td>United States</td><td>26</td></tr><tr><td>Canada</td><td>United States</td><td>8271</td></tr><tr><td>Federated States of Micronesia</td><td>United States</td><td>46</td></tr><tr><td>United States</td><td>Liberia</td><td>1</td></tr><tr><td>Jamaica</td><td>United States</td><td>733</td></tr><tr><td>United States</td><td>Malta</td><td>2</td></tr><tr><td>Dominican Republic</td><td>United States</td><td>1109</td></tr><tr><td>Japan</td><td>United States</td><td>1383</td></tr><tr><td>United States</td><td>Saint Vincent and the Grenadines</td><td>16</td></tr><tr><td>United States</td><td>Guadeloupe</td><td>33</td></tr><tr><td>Finland</td><td>United States</td><td>24</td></tr><tr><td>United States</td><td>Ukraine</td><td>17</td></tr><tr><td>United States</td><td>France</td><td>776</td></tr><tr><td>United States</td><td>Norway</td><td>36</td></tr><tr><td>Aruba</td><td>United States</td><td>359</td></tr><tr><td>French Guiana</td><td>United States</td><td>4</td></tr><tr><td>United States</td><td>Kiribati</td><td>18</td></tr><tr><td>India</td><td>United States</td><td>66</td></tr><tr><td>British Virgin Islands</td><td>United States</td><td>49</td></tr><tr><td>United States</td><td>Germany</td><td>1406</td></tr><tr><td>Brazil</td><td>United States</td><td>995</td></tr><tr><td>United States</td><td>New Zealand</td><td>71</td></tr><tr><td>French Polynesia</td><td>United States</td><td>38</td></tr><tr><td>United Arab Emirates</td><td>United States</td><td>165</td></tr><tr><td>Singapore</td><td>United States</td><td>25</td></tr><tr><td>United States</td><td>Mexico</td><td>6220</td></tr><tr><td>Netherlands</td><td>United States</td><td>586</td></tr><tr><td>United States</td><td>Sweden</td><td>73</td></tr><tr><td>United States</td><td>Gabon</td><td>1</td></tr><tr><td>United States</td><td>Martinique</td><td>20</td></tr><tr><td>United States</td><td>United Arab Emirates</td><td>156</td></tr><tr><td>United States</td><td>Bulgaria</td><td>2</td></tr><tr><td>China</td><td>United States</td><td>448</td></tr><tr><td>Denmark</td><td>United States</td><td>98</td></tr><tr><td>United States</td><td>Philippines</td><td>116</td></tr><tr><td>United States</td><td>Nicaragua</td><td>181</td></tr><tr><td>United States</td><td>Belgium</td><td>355</td></tr><tr><td>Peru</td><td>United States</td><td>212</td></tr><tr><td>Argentina</td><td>United States</td><td>184</td></tr><tr><td>Cayman Islands</td><td>United States</td><td>247</td></tr><tr><td>South Africa</td><td>United States</td><td>25</td></tr><tr><td>United States</td><td>Iceland</td><td>129</td></tr><tr><td>United States</td><td>Argentina</td><td>159</td></tr><tr><td>Spain</td><td>United States</td><td>422</td></tr><tr><td>Netherlands Antilles</td><td>United States</td><td>286</td></tr><tr><td>Bermuda</td><td>United States</td><td>183</td></tr><tr><td>United States</td><td>Austria</td><td>34</td></tr><tr><td>United States</td><td>Nigeria</td><td>18</td></tr><tr><td>United States</td><td>Bonaire, Sint Eustatius, and Saba</td><td>16</td></tr><tr><td>Kiribati</td><td>United States</td><td>17</td></tr><tr><td>Saudi Arabia</td><td>United States</td><td>42</td></tr><tr><td>Czech Republic</td><td>United States</td><td>21</td></tr><tr><td>Belgium</td><td>United States</td><td>408</td></tr><tr><td>United States</td><td>Israel</td><td>122</td></tr><tr><td>United States</td><td>Bahrain</td><td>1</td></tr><tr><td>United States</td><td>Saint Lucia</td><td>121</td></tr><tr><td>Afghanistan</td><td>United States</td><td>11</td></tr><tr><td>United States</td><td>British Virgin Islands</td><td>47</td></tr><tr><td>Curacao</td><td>United States</td><td>20</td></tr><tr><td>Georgia</td><td>United States</td><td>2</td></tr><tr><td>United States</td><td>Guyana</td><td>20</td></tr><tr><td>United States</td><td>Denmark</td><td>107</td></tr><tr><td>Philippines</td><td>United States</td><td>132</td></tr><tr><td>Grenada</td><td>United States</td><td>65</td></tr><tr><td>Cape Verde</td><td>United States</td><td>18</td></tr><tr><td>Ukraine</td><td>United States</td><td>19</td></tr><tr><td>United States</td><td>Papua New Guinea</td><td>1</td></tr><tr><td>United States</td><td>Saudi Arabia</td><td>54</td></tr><tr><td>Russia</td><td>United States</td><td>152</td></tr><tr><td>Guatemala</td><td>United States</td><td>386</td></tr><tr><td>Saint Lucia</td><td>United States</td><td>116</td></tr><tr><td>Paraguay</td><td>United States</td><td>90</td></tr><tr><td>United States</td><td>Curacao</td><td>14</td></tr><tr><td>United States</td><td>Taiwan</td><td>252</td></tr><tr><td>United States</td><td>South Africa</td><td>15</td></tr><tr><td>Turkey</td><td>United States</td><td>75</td></tr><tr><td>United Kingdom</td><td>United States</td><td>1629</td></tr><tr><td>United States</td><td>Greenland</td><td>2</td></tr><tr><td>United States</td><td>Spain</td><td>442</td></tr><tr><td>Cuba</td><td>United States</td><td>243</td></tr><tr><td>United States</td><td>Italy</td><td>433</td></tr><tr><td>United States</td><td>Switzerland</td><td>334</td></tr><tr><td>Dominica</td><td>United States</td><td>28</td></tr><tr><td>United States</td><td>Japan</td><td>1307</td></tr><tr><td>Portugal</td><td>United States</td><td>102</td></tr><tr><td>United States</td><td>Brazil</td><td>578</td></tr><tr><td>Bahrain</td><td>United States</td><td>30</td></tr><tr><td>United States</td><td>Peru</td><td>284</td></tr><tr><td>Vietnam</td><td>United States</td><td>1</td></tr><tr><td>United States</td><td>United Kingdom</td><td>1503</td></tr><tr><td>United States</td><td>Belize</td><td>118</td></tr><tr><td>Belize</td><td>United States</td><td>121</td></tr><tr><td>United States</td><td>Ghana</td><td>28</td></tr><tr><td>United States</td><td>Indonesia</td><td>1</td></tr><tr><td>United States</td><td>Fiji</td><td>51</td></tr><tr><td>United States</td><td>Canada</td><td>8305</td></tr><tr><td>United States</td><td>French Polynesia</td><td>38</td></tr><tr><td>United States</td><td>Antigua and Barbuda</td><td>121</td></tr><tr><td>United States</td><td>Burkina Faso</td><td>1</td></tr><tr><td>Nicaragua</td><td>United States</td><td>178</td></tr><tr><td>United States</td><td>Latvia</td><td>13</td></tr><tr><td>United States</td><td>Dominica</td><td>32</td></tr><tr><td>United States</td><td>Czech Republic</td><td>22</td></tr><tr><td>United States</td><td>Australia</td><td>216</td></tr><tr><td>Austria</td><td>United States</td><td>36</td></tr><tr><td>United States</td><td>Cook Islands</td><td>12</td></tr><tr><td>Jordan</td><td>United States</td><td>50</td></tr><tr><td>Palau</td><td>United States</td><td>31</td></tr><tr><td>Uganda</td><td>United States</td><td>2</td></tr><tr><td>United States</td><td>Cameroon</td><td>1</td></tr><tr><td>South Korea</td><td>United States</td><td>683</td></tr><tr><td>Angola</td><td>United States</td><td>14</td></tr><tr><td>Ghana</td><td>United States</td><td>27</td></tr><tr><td>Guadeloupe</td><td>United States</td><td>40</td></tr><tr><td>France</td><td>United States</td><td>774</td></tr><tr><td>United States</td><td>Kyrgyzstan</td><td>12</td></tr><tr><td>Poland</td><td>United States</td><td>62</td></tr><tr><td>Nigeria</td><td>United States</td><td>16</td></tr><tr><td>United States</td><td>Uruguay</td><td>24</td></tr><tr><td>Greenland</td><td>United States</td><td>2</td></tr><tr><td>Chile</td><td>United States</td><td>166</td></tr><tr><td>United States</td><td>Bermuda</td><td>180</td></tr><tr><td>United States</td><td>Cuba</td><td>235</td></tr><tr><td>United States</td><td>Colombia</td><td>832</td></tr><tr><td>United States</td><td>Qatar</td><td>40</td></tr><tr><td>United States</td><td>Barbados</td><td>119</td></tr><tr><td>Australia</td><td>United States</td><td>290</td></tr><tr><td>United States</td><td>Jordan</td><td>51</td></tr><tr><td>United States</td><td>Cayman Islands</td><td>251</td></tr><tr><td>United States</td><td>Trinidad and Tobago</td><td>200</td></tr><tr><td>United States</td><td>Bolivia</td><td>39</td></tr><tr><td>United States</td><td>Slovakia</td><td>1</td></tr><tr><td>Uruguay</td><td>United States</td><td>54</td></tr><tr><td>Cook Islands</td><td>United States</td><td>13</td></tr><tr><td>United States</td><td>Saint Kitts and Nevis</td><td>127</td></tr><tr><td>Bulgaria</td><td>United States</td><td>1</td></tr><tr><td>United States</td><td>French Guiana</td><td>1</td></tr><tr><td>United States</td><td>Haiti</td><td>226</td></tr><tr><td>United States</td><td>Uganda</td><td>1</td></tr><tr><td>Bonaire, Sint Eustatius, and Saba</td><td>United States</td><td>16</td></tr><tr><td>Greece</td><td>United States</td><td>50</td></tr></tbody></table></div>"
      ]
     },
     "metadata": {
      "application/vnd.databricks.v1+output": {
       "addedWidgets": {},
       "aggData": [],
       "aggError": "",
       "aggOverflow": false,
       "aggSchema": [],
       "aggSeriesLimitReached": false,
       "aggType": "",
       "arguments": {},
       "columnCustomDisplayInfos": {},
       "data": [
        [
         "United States",
         "Romania",
         1
        ],
        [
         "United States",
         "Ireland",
         264
        ],
        [
         "United States",
         "India",
         69
        ],
        [
         "Egypt",
         "United States",
         24
        ],
        [
         "Equatorial Guinea",
         "United States",
         1
        ],
        [
         "United States",
         "Singapore",
         25
        ],
        [
         "United States",
         "Grenada",
         54
        ],
        [
         "Costa Rica",
         "United States",
         477
        ],
        [
         "Senegal",
         "United States",
         29
        ],
        [
         "United States",
         "Marshall Islands",
         44
        ],
        [
         "Guyana",
         "United States",
         17
        ],
        [
         "United States",
         "Sint Maarten",
         53
        ],
        [
         "Malta",
         "United States",
         1
        ],
        [
         "Bolivia",
         "United States",
         46
        ],
        [
         "Anguilla",
         "United States",
         21
        ],
        [
         "Turks and Caicos Islands",
         "United States",
         136
        ],
        [
         "United States",
         "Afghanistan",
         2
        ],
        [
         "Saint Vincent and the Grenadines",
         "United States",
         1
        ],
        [
         "Italy",
         "United States",
         390
        ],
        [
         "United States",
         "Russia",
         156
        ],
        [
         "United States",
         "Federated States of Micronesia",
         48
        ],
        [
         "Pakistan",
         "United States",
         9
        ],
        [
         "United States",
         "Netherlands",
         570
        ],
        [
         "Iceland",
         "United States",
         118
        ],
        [
         "Marshall Islands",
         "United States",
         77
        ],
        [
         "Luxembourg",
         "United States",
         91
        ],
        [
         "Honduras",
         "United States",
         391
        ],
        [
         "The Bahamas",
         "United States",
         903
        ],
        [
         "El Salvador",
         "United States",
         519
        ],
        [
         "United States",
         "Senegal",
         46
        ],
        [
         "Samoa",
         "United States",
         28
        ],
        [
         "United States",
         "Angola",
         18
        ],
        [
         "Kazakhstan",
         "United States",
         3
        ],
        [
         "Switzerland",
         "United States",
         315
        ],
        [
         "United States",
         "Anguilla",
         20
        ],
        [
         "Sint Maarten",
         "United States",
         61
        ],
        [
         "Hong Kong",
         "United States",
         252
        ],
        [
         "Trinidad and Tobago",
         "United States",
         187
        ],
        [
         "Latvia",
         "United States",
         12
        ],
        [
         "United States",
         "Ecuador",
         345
        ],
        [
         "Slovakia",
         "United States",
         1
        ],
        [
         "Suriname",
         "United States",
         12
        ],
        [
         "Mexico",
         "United States",
         6200
        ],
        [
         "United States",
         "Cyprus",
         1
        ],
        [
         "Ecuador",
         "United States",
         272
        ],
        [
         "United States",
         "Bosnia and Herzegovina",
         1
        ],
        [
         "United States",
         "Portugal",
         104
        ],
        [
         "United States",
         "Costa Rica",
         501
        ],
        [
         "United States",
         "Guatemala",
         333
        ],
        [
         "United States",
         "Suriname",
         13
        ],
        [
         "Colombia",
         "United States",
         785
        ],
        [
         "United States",
         "Cape Verde",
         18
        ],
        [
         "United States",
         "Jamaica",
         757
        ],
        [
         "United States",
         "Malaysia",
         3
        ],
        [
         "Norway",
         "United States",
         29
        ],
        [
         "United States",
         "Morocco",
         16
        ],
        [
         "Thailand",
         "United States",
         16
        ],
        [
         "Venezuela",
         "United States",
         377
        ],
        [
         "United States",
         "Palau",
         30
        ],
        [
         "United States",
         "Samoa",
         28
        ],
        [
         "United States",
         "Algeria",
         1
        ],
        [
         "United States",
         "Venezuela",
         341
        ],
        [
         "Panama",
         "United States",
         355
        ],
        [
         "United States",
         "Finland",
         20
        ],
        [
         "United States",
         "Chile",
         176
        ],
        [
         "Morocco",
         "United States",
         16
        ],
        [
         "United States",
         "Greece",
         61
        ],
        [
         "Antigua and Barbuda",
         "United States",
         123
        ],
        [
         "Azerbaijan",
         "United States",
         1
        ],
        [
         "United States",
         "The Bahamas",
         959
        ],
        [
         "New Zealand",
         "United States",
         86
        ],
        [
         "Liberia",
         "United States",
         1
        ],
        [
         "United States",
         "Hong Kong",
         293
        ],
        [
         "Hungary",
         "United States",
         14
        ],
        [
         "United States",
         "China",
         505
        ],
        [
         "United States",
         "Vietnam",
         1
        ],
        [
         "Sweden",
         "United States",
         65
        ],
        [
         "United States",
         "Kuwait",
         25
        ],
        [
         "United States",
         "Dominican Republic",
         1150
        ],
        [
         "United States",
         "Egypt",
         25
        ],
        [
         "Israel",
         "United States",
         117
        ],
        [
         "United States",
         "United States",
         348113
        ],
        [
         "United States",
         "Luxembourg",
         90
        ],
        [
         "Ethiopia",
         "United States",
         12
        ],
        [
         "United States",
         "Poland",
         61
        ],
        [
         "Martinique",
         "United States",
         23
        ],
        [
         "Saint Barthelemy",
         "United States",
         28
        ],
        [
         "United States",
         "Saint Barthelemy",
         29
        ],
        [
         "United States",
         "Turkey",
         87
        ],
        [
         "Barbados",
         "United States",
         130
        ],
        [
         "United States",
         "Estonia",
         1
        ],
        [
         "United States",
         "Azerbaijan",
         1
        ],
        [
         "Germany",
         "United States",
         1392
        ],
        [
         "Kyrgyzstan",
         "United States",
         2
        ],
        [
         "United States",
         "South Korea",
         621
        ],
        [
         "United States",
         "El Salvador",
         464
        ],
        [
         "Ireland",
         "United States",
         231
        ],
        [
         "United States",
         "Hungary",
         15
        ],
        [
         "United States",
         "Serbia",
         1
        ],
        [
         "Malaysia",
         "United States",
         1
        ],
        [
         "United States",
         "Panama",
         363
        ],
        [
         "United States",
         "Ethiopia",
         12
        ],
        [
         "United States",
         "Aruba",
         349
        ],
        [
         "United States",
         "Thailand",
         13
        ],
        [
         "United States",
         "Netherlands Antilles",
         289
        ],
        [
         "United States",
         "Turks and Caicos Islands",
         147
        ],
        [
         "Cyprus",
         "United States",
         2
        ],
        [
         "United States",
         "Pakistan",
         15
        ],
        [
         "United States",
         "Honduras",
         393
        ],
        [
         "Qatar",
         "United States",
         41
        ],
        [
         "Fiji",
         "United States",
         53
        ],
        [
         "Saint Kitts and Nevis",
         "United States",
         113
        ],
        [
         "Taiwan",
         "United States",
         275
        ],
        [
         "Haiti",
         "United States",
         238
        ],
        [
         "Kuwait",
         "United States",
         26
        ],
        [
         "Canada",
         "United States",
         8271
        ],
        [
         "Federated States of Micronesia",
         "United States",
         46
        ],
        [
         "United States",
         "Liberia",
         1
        ],
        [
         "Jamaica",
         "United States",
         733
        ],
        [
         "United States",
         "Malta",
         2
        ],
        [
         "Dominican Republic",
         "United States",
         1109
        ],
        [
         "Japan",
         "United States",
         1383
        ],
        [
         "United States",
         "Saint Vincent and the Grenadines",
         16
        ],
        [
         "United States",
         "Guadeloupe",
         33
        ],
        [
         "Finland",
         "United States",
         24
        ],
        [
         "United States",
         "Ukraine",
         17
        ],
        [
         "United States",
         "France",
         776
        ],
        [
         "United States",
         "Norway",
         36
        ],
        [
         "Aruba",
         "United States",
         359
        ],
        [
         "French Guiana",
         "United States",
         4
        ],
        [
         "United States",
         "Kiribati",
         18
        ],
        [
         "India",
         "United States",
         66
        ],
        [
         "British Virgin Islands",
         "United States",
         49
        ],
        [
         "United States",
         "Germany",
         1406
        ],
        [
         "Brazil",
         "United States",
         995
        ],
        [
         "United States",
         "New Zealand",
         71
        ],
        [
         "French Polynesia",
         "United States",
         38
        ],
        [
         "United Arab Emirates",
         "United States",
         165
        ],
        [
         "Singapore",
         "United States",
         25
        ],
        [
         "United States",
         "Mexico",
         6220
        ],
        [
         "Netherlands",
         "United States",
         586
        ],
        [
         "United States",
         "Sweden",
         73
        ],
        [
         "United States",
         "Gabon",
         1
        ],
        [
         "United States",
         "Martinique",
         20
        ],
        [
         "United States",
         "United Arab Emirates",
         156
        ],
        [
         "United States",
         "Bulgaria",
         2
        ],
        [
         "China",
         "United States",
         448
        ],
        [
         "Denmark",
         "United States",
         98
        ],
        [
         "United States",
         "Philippines",
         116
        ],
        [
         "United States",
         "Nicaragua",
         181
        ],
        [
         "United States",
         "Belgium",
         355
        ],
        [
         "Peru",
         "United States",
         212
        ],
        [
         "Argentina",
         "United States",
         184
        ],
        [
         "Cayman Islands",
         "United States",
         247
        ],
        [
         "South Africa",
         "United States",
         25
        ],
        [
         "United States",
         "Iceland",
         129
        ],
        [
         "United States",
         "Argentina",
         159
        ],
        [
         "Spain",
         "United States",
         422
        ],
        [
         "Netherlands Antilles",
         "United States",
         286
        ],
        [
         "Bermuda",
         "United States",
         183
        ],
        [
         "United States",
         "Austria",
         34
        ],
        [
         "United States",
         "Nigeria",
         18
        ],
        [
         "United States",
         "Bonaire, Sint Eustatius, and Saba",
         16
        ],
        [
         "Kiribati",
         "United States",
         17
        ],
        [
         "Saudi Arabia",
         "United States",
         42
        ],
        [
         "Czech Republic",
         "United States",
         21
        ],
        [
         "Belgium",
         "United States",
         408
        ],
        [
         "United States",
         "Israel",
         122
        ],
        [
         "United States",
         "Bahrain",
         1
        ],
        [
         "United States",
         "Saint Lucia",
         121
        ],
        [
         "Afghanistan",
         "United States",
         11
        ],
        [
         "United States",
         "British Virgin Islands",
         47
        ],
        [
         "Curacao",
         "United States",
         20
        ],
        [
         "Georgia",
         "United States",
         2
        ],
        [
         "United States",
         "Guyana",
         20
        ],
        [
         "United States",
         "Denmark",
         107
        ],
        [
         "Philippines",
         "United States",
         132
        ],
        [
         "Grenada",
         "United States",
         65
        ],
        [
         "Cape Verde",
         "United States",
         18
        ],
        [
         "Ukraine",
         "United States",
         19
        ],
        [
         "United States",
         "Papua New Guinea",
         1
        ],
        [
         "United States",
         "Saudi Arabia",
         54
        ],
        [
         "Russia",
         "United States",
         152
        ],
        [
         "Guatemala",
         "United States",
         386
        ],
        [
         "Saint Lucia",
         "United States",
         116
        ],
        [
         "Paraguay",
         "United States",
         90
        ],
        [
         "United States",
         "Curacao",
         14
        ],
        [
         "United States",
         "Taiwan",
         252
        ],
        [
         "United States",
         "South Africa",
         15
        ],
        [
         "Turkey",
         "United States",
         75
        ],
        [
         "United Kingdom",
         "United States",
         1629
        ],
        [
         "United States",
         "Greenland",
         2
        ],
        [
         "United States",
         "Spain",
         442
        ],
        [
         "Cuba",
         "United States",
         243
        ],
        [
         "United States",
         "Italy",
         433
        ],
        [
         "United States",
         "Switzerland",
         334
        ],
        [
         "Dominica",
         "United States",
         28
        ],
        [
         "United States",
         "Japan",
         1307
        ],
        [
         "Portugal",
         "United States",
         102
        ],
        [
         "United States",
         "Brazil",
         578
        ],
        [
         "Bahrain",
         "United States",
         30
        ],
        [
         "United States",
         "Peru",
         284
        ],
        [
         "Vietnam",
         "United States",
         1
        ],
        [
         "United States",
         "United Kingdom",
         1503
        ],
        [
         "United States",
         "Belize",
         118
        ],
        [
         "Belize",
         "United States",
         121
        ],
        [
         "United States",
         "Ghana",
         28
        ],
        [
         "United States",
         "Indonesia",
         1
        ],
        [
         "United States",
         "Fiji",
         51
        ],
        [
         "United States",
         "Canada",
         8305
        ],
        [
         "United States",
         "French Polynesia",
         38
        ],
        [
         "United States",
         "Antigua and Barbuda",
         121
        ],
        [
         "United States",
         "Burkina Faso",
         1
        ],
        [
         "Nicaragua",
         "United States",
         178
        ],
        [
         "United States",
         "Latvia",
         13
        ],
        [
         "United States",
         "Dominica",
         32
        ],
        [
         "United States",
         "Czech Republic",
         22
        ],
        [
         "United States",
         "Australia",
         216
        ],
        [
         "Austria",
         "United States",
         36
        ],
        [
         "United States",
         "Cook Islands",
         12
        ],
        [
         "Jordan",
         "United States",
         50
        ],
        [
         "Palau",
         "United States",
         31
        ],
        [
         "Uganda",
         "United States",
         2
        ],
        [
         "United States",
         "Cameroon",
         1
        ],
        [
         "South Korea",
         "United States",
         683
        ],
        [
         "Angola",
         "United States",
         14
        ],
        [
         "Ghana",
         "United States",
         27
        ],
        [
         "Guadeloupe",
         "United States",
         40
        ],
        [
         "France",
         "United States",
         774
        ],
        [
         "United States",
         "Kyrgyzstan",
         12
        ],
        [
         "Poland",
         "United States",
         62
        ],
        [
         "Nigeria",
         "United States",
         16
        ],
        [
         "United States",
         "Uruguay",
         24
        ],
        [
         "Greenland",
         "United States",
         2
        ],
        [
         "Chile",
         "United States",
         166
        ],
        [
         "United States",
         "Bermuda",
         180
        ],
        [
         "United States",
         "Cuba",
         235
        ],
        [
         "United States",
         "Colombia",
         832
        ],
        [
         "United States",
         "Qatar",
         40
        ],
        [
         "United States",
         "Barbados",
         119
        ],
        [
         "Australia",
         "United States",
         290
        ],
        [
         "United States",
         "Jordan",
         51
        ],
        [
         "United States",
         "Cayman Islands",
         251
        ],
        [
         "United States",
         "Trinidad and Tobago",
         200
        ],
        [
         "United States",
         "Bolivia",
         39
        ],
        [
         "United States",
         "Slovakia",
         1
        ],
        [
         "Uruguay",
         "United States",
         54
        ],
        [
         "Cook Islands",
         "United States",
         13
        ],
        [
         "United States",
         "Saint Kitts and Nevis",
         127
        ],
        [
         "Bulgaria",
         "United States",
         1
        ],
        [
         "United States",
         "French Guiana",
         1
        ],
        [
         "United States",
         "Haiti",
         226
        ],
        [
         "United States",
         "Uganda",
         1
        ],
        [
         "Bonaire, Sint Eustatius, and Saba",
         "United States",
         16
        ],
        [
         "Greece",
         "United States",
         50
        ]
       ],
       "datasetInfos": [],
       "dbfsResultPath": null,
       "isJsonSchema": true,
       "metadata": {},
       "overflow": false,
       "plotOptions": {
        "customPlotOptions": {},
        "displayType": "table",
        "pivotAggregation": null,
        "pivotColumns": null,
        "xColumns": null,
        "yColumns": null
       },
       "removedWidgets": [],
       "schema": [
        {
         "metadata": "{}",
         "name": "DEST_COUNTRY_NAME",
         "type": "\"string\""
        },
        {
         "metadata": "{}",
         "name": "ORIGIN_COUNTRY_NAME",
         "type": "\"string\""
        },
        {
         "metadata": "{}",
         "name": "count",
         "type": "\"integer\""
        }
       ],
       "type": "table"
      }
     },
     "output_type": "display_data"
    }
   ],
   "source": [
    "display(df_employee)"
   ]
  },
  {
   "cell_type": "code",
   "execution_count": 0,
   "metadata": {
    "application/vnd.databricks.v1+cell": {
     "cellMetadata": {
      "byteLimit": 2048000,
      "rowLimit": 10000
     },
     "inputWidgets": {},
     "nuid": "ce066317-e297-4445-a6bf-21a2432f881f",
     "showTitle": false,
     "title": ""
    }
   },
   "outputs": [
    {
     "output_type": "stream",
     "name": "stdout",
     "output_type": "stream",
     "text": [
      "root\n |-- DEST_COUNTRY_NAME: string (nullable = true)\n |-- ORIGIN_COUNTRY_NAME: string (nullable = true)\n |-- count: integer (nullable = true)\n\n"
     ]
    }
   ],
   "source": [
    "df_employee.printSchema()"
   ]
  },
  {
   "cell_type": "code",
   "execution_count": 0,
   "metadata": {
    "application/vnd.databricks.v1+cell": {
     "cellMetadata": {
      "byteLimit": 2048000,
      "rowLimit": 10000
     },
     "inputWidgets": {},
     "nuid": "9c22de38-0549-4c11-a0ad-aedf57f65f4e",
     "showTitle": true,
     "title": "add new column"
    }
   },
   "outputs": [
    {
     "output_type": "stream",
     "name": "stdout",
     "output_type": "stream",
     "text": [
      "+----------+-----------+---------+----------+------+------+\n|first_name|middle_name|last_name|       dob|gender|salary|\n+----------+-----------+---------+----------+------+------+\n|     James|           |    Smith|1980-05-12|     M| 60000|\n|      Emma|     Sophia|  Johnson|1992-08-25|     F| 75000|\n|   Michael|           | Williams|1975-11-03|     M| 90000|\n|    Olivia|      Grace|    Jones|1988-03-17|     F| 80000|\n|   William|           |    Brown|1983-09-30|     M| 70000|\n+----------+-----------+---------+----------+------+------+\n\n"
     ]
    }
   ],
   "source": [
    "df.show()"
   ]
  },
  {
   "cell_type": "code",
   "execution_count": 0,
   "metadata": {
    "application/vnd.databricks.v1+cell": {
     "cellMetadata": {
      "byteLimit": 2048000,
      "rowLimit": 10000
     },
     "inputWidgets": {},
     "nuid": "6b4a3d1d-c8b0-4695-9875-d836fdf682cf",
     "showTitle": false,
     "title": ""
    }
   },
   "outputs": [
    {
     "output_type": "stream",
     "name": "stdout",
     "output_type": "stream",
     "text": [
      "+----------+-----------+---------+----------+------+------+-------+\n|first_name|middle_name|last_name|       dob|gender|salary|  bonus|\n+----------+-----------+---------+----------+------+------+-------+\n|     James|           |    Smith|1980-05-12|     M| 60000|12000.0|\n|      Emma|     Sophia|  Johnson|1992-08-25|     F| 75000|15000.0|\n|   Michael|           | Williams|1975-11-03|     M| 90000|18000.0|\n|    Olivia|      Grace|    Jones|1988-03-17|     F| 80000|16000.0|\n|   William|           |    Brown|1983-09-30|     M| 70000|14000.0|\n+----------+-----------+---------+----------+------+------+-------+\n\n"
     ]
    }
   ],
   "source": [
    "df.withColumn(\"bonus\",df.salary*0.2).show()"
   ]
  },
  {
   "cell_type": "code",
   "execution_count": 0,
   "metadata": {
    "application/vnd.databricks.v1+cell": {
     "cellMetadata": {
      "byteLimit": 2048000,
      "rowLimit": 10000
     },
     "inputWidgets": {},
     "nuid": "e340ca6e-87ad-400a-8e3f-39277736d446",
     "showTitle": false,
     "title": ""
    }
   },
   "outputs": [
    {
     "output_type": "stream",
     "name": "stdout",
     "output_type": "stream",
     "text": [
      "+----------+-----------+---------+----------+------+------+-------+\n|first_name|middle_name|last_name|       dob|gender|salary|  bonus|\n+----------+-----------+---------+----------+------+------+-------+\n|     James|           |    Smith|1980-05-12|     M| 60000|12000.0|\n|      Emma|     Sophia|  Johnson|1992-08-25|     F| 75000|15000.0|\n|   Michael|           | Williams|1975-11-03|     M| 90000|18000.0|\n|    Olivia|      Grace|    Jones|1988-03-17|     F| 80000|16000.0|\n|   William|           |    Brown|1983-09-30|     M| 70000|14000.0|\n+----------+-----------+---------+----------+------+------+-------+\n\n"
     ]
    }
   ],
   "source": [
    "df_bonus = df.withColumn(\"bonus\",df.salary*0.2).show()"
   ]
  },
  {
   "cell_type": "code",
   "execution_count": 0,
   "metadata": {
    "application/vnd.databricks.v1+cell": {
     "cellMetadata": {
      "byteLimit": 2048000,
      "rowLimit": 10000
     },
     "inputWidgets": {},
     "nuid": "291b676e-fe37-4b6e-b014-8ca946c702da",
     "showTitle": true,
     "title": "how to filter the df"
    }
   },
   "outputs": [
    {
     "output_type": "stream",
     "name": "stdout",
     "output_type": "stream",
     "text": [
      "+----------+-----------+---------+----------+------+------+\n|first_name|middle_name|last_name|       dob|gender|salary|\n+----------+-----------+---------+----------+------+------+\n|     James|           |    Smith|1980-05-12|     M| 60000|\n|      Emma|     Sophia|  Johnson|1992-08-25|     F| 75000|\n|   Michael|           | Williams|1975-11-03|     M| 90000|\n|    Olivia|      Grace|    Jones|1988-03-17|     F| 80000|\n|   William|           |    Brown|1983-09-30|     M| 70000|\n+----------+-----------+---------+----------+------+------+\n\n"
     ]
    }
   ],
   "source": [
    "df.filter(df.salary>35000).show()"
   ]
  },
  {
   "cell_type": "code",
   "execution_count": 0,
   "metadata": {
    "application/vnd.databricks.v1+cell": {
     "cellMetadata": {
      "byteLimit": 2048000,
      "rowLimit": 10000
     },
     "inputWidgets": {},
     "nuid": "b4bdc015-2e07-470e-b92b-4bb8e63c7150",
     "showTitle": false,
     "title": ""
    }
   },
   "outputs": [
    {
     "output_type": "stream",
     "name": "stdout",
     "output_type": "stream",
     "text": [
      "+----------+-----------+---------+----------+------+------+\n|first_name|middle_name|last_name|       dob|gender|salary|\n+----------+-----------+---------+----------+------+------+\n|     James|           |    Smith|1980-05-12|     M| 60000|\n|   William|           |    Brown|1983-09-30|     M| 70000|\n|      Emma|     Sophia|  Johnson|1992-08-25|     F| 75000|\n|    Olivia|      Grace|    Jones|1988-03-17|     F| 80000|\n|   Michael|           | Williams|1975-11-03|     M| 90000|\n+----------+-----------+---------+----------+------+------+\n\n"
     ]
    }
   ],
   "source": [
    "df.sort(df.salary).show()"
   ]
  },
  {
   "cell_type": "code",
   "execution_count": 0,
   "metadata": {
    "application/vnd.databricks.v1+cell": {
     "cellMetadata": {
      "byteLimit": 2048000,
      "rowLimit": 10000
     },
     "inputWidgets": {},
     "nuid": "eca1b097-950e-4830-9f66-dec7b59c9ced",
     "showTitle": false,
     "title": ""
    }
   },
   "outputs": [
    {
     "output_type": "stream",
     "name": "stdout",
     "output_type": "stream",
     "text": [
      "+----------+-----------+---------+----------+------+------+\n|first_name|middle_name|last_name|       dob|gender|salary|\n+----------+-----------+---------+----------+------+------+\n|   Michael|           | Williams|1975-11-03|     M| 90000|\n|    Olivia|      Grace|    Jones|1988-03-17|     F| 80000|\n|      Emma|     Sophia|  Johnson|1992-08-25|     F| 75000|\n|   William|           |    Brown|1983-09-30|     M| 70000|\n|     James|           |    Smith|1980-05-12|     M| 60000|\n+----------+-----------+---------+----------+------+------+\n\n"
     ]
    }
   ],
   "source": [
    "df.sort(df.salary.desc()).show()"
   ]
  },
  {
   "cell_type": "code",
   "execution_count": 0,
   "metadata": {
    "application/vnd.databricks.v1+cell": {
     "cellMetadata": {
      "byteLimit": 2048000,
      "rowLimit": 10000
     },
     "inputWidgets": {},
     "nuid": "991df9f8-134b-49d2-ab8a-bf4b521d740c",
     "showTitle": false,
     "title": ""
    }
   },
   "outputs": [
    {
     "output_type": "stream",
     "name": "stdout",
     "output_type": "stream",
     "text": [
      "+----------+-----------+---------+----------+------+------+\n|first_name|middle_name|last_name|       dob|gender|salary|\n+----------+-----------+---------+----------+------+------+\n|     James|           |    Smith|1980-05-12|     M| 60000|\n|   William|           |    Brown|1983-09-30|     M| 70000|\n|      Emma|     Sophia|  Johnson|1992-08-25|     F| 75000|\n|    Olivia|      Grace|    Jones|1988-03-17|     F| 80000|\n|   Michael|           | Williams|1975-11-03|     M| 90000|\n+----------+-----------+---------+----------+------+------+\n\n"
     ]
    }
   ],
   "source": [
    "df.sort(df.salary.asc()).show()"
   ]
  },
  {
   "cell_type": "code",
   "execution_count": 0,
   "metadata": {
    "application/vnd.databricks.v1+cell": {
     "cellMetadata": {
      "byteLimit": 2048000,
      "rowLimit": 10000
     },
     "inputWidgets": {},
     "nuid": "6f5ef9be-a9c9-48df-af02-b82b6f36c358",
     "showTitle": true,
     "title": "select command in spark"
    }
   },
   "outputs": [
    {
     "output_type": "stream",
     "name": "stdout",
     "output_type": "stream",
     "text": [
      "+----------+------+------+\n|first_name|gender|salary|\n+----------+------+------+\n|     James|     M| 60000|\n|      Emma|     F| 75000|\n|   Michael|     M| 90000|\n|    Olivia|     F| 80000|\n|   William|     M| 70000|\n+----------+------+------+\n\n"
     ]
    }
   ],
   "source": [
    "df.select(\"first_name\",\"gender\",\"salary\").show()"
   ]
  },
  {
   "cell_type": "code",
   "execution_count": 0,
   "metadata": {
    "application/vnd.databricks.v1+cell": {
     "cellMetadata": {
      "byteLimit": 2048000,
      "rowLimit": 10000
     },
     "inputWidgets": {},
     "nuid": "bb249611-266c-4d71-ac5e-5c0c9e480415",
     "showTitle": true,
     "title": "Aggregation function avg,min, max(), groupby"
    }
   },
   "outputs": [
    {
     "output_type": "stream",
     "name": "stdout",
     "output_type": "stream",
     "text": [
      "+------+-----------+\n|gender|sum(salary)|\n+------+-----------+\n|     M|     220000|\n|     F|     155000|\n+------+-----------+\n\n"
     ]
    }
   ],
   "source": [
    "df.groupBy(\"gender\").sum(\"salary\").show()"
   ]
  },
  {
   "cell_type": "code",
   "execution_count": 0,
   "metadata": {
    "application/vnd.databricks.v1+cell": {
     "cellMetadata": {
      "byteLimit": 2048000,
      "rowLimit": 10000
     },
     "inputWidgets": {},
     "nuid": "3f562d87-26f7-448c-8aed-55c5a5a5a11e",
     "showTitle": false,
     "title": ""
    }
   },
   "outputs": [
    {
     "output_type": "stream",
     "name": "stdout",
     "output_type": "stream",
     "text": [
      "+------+-----+\n|gender|count|\n+------+-----+\n|     M|    3|\n|     F|    2|\n+------+-----+\n\n"
     ]
    }
   ],
   "source": [
    "df.groupBy(\"gender\").count().show()"
   ]
  },
  {
   "cell_type": "code",
   "execution_count": 0,
   "metadata": {
    "application/vnd.databricks.v1+cell": {
     "cellMetadata": {
      "byteLimit": 2048000,
      "rowLimit": 10000
     },
     "inputWidgets": {},
     "nuid": "fc22a772-d37e-4cd3-97f8-bb70d8a49953",
     "showTitle": false,
     "title": ""
    }
   },
   "outputs": [
    {
     "output_type": "stream",
     "name": "stdout",
     "output_type": "stream",
     "text": [
      "+------+-----------+\n|gender|min(salary)|\n+------+-----------+\n|     M|      60000|\n|     F|      75000|\n+------+-----------+\n\n"
     ]
    }
   ],
   "source": [
    "df.groupBy(\"gender\").min(\"salary\").show()"
   ]
  },
  {
   "cell_type": "code",
   "execution_count": 0,
   "metadata": {
    "application/vnd.databricks.v1+cell": {
     "cellMetadata": {
      "byteLimit": 2048000,
      "rowLimit": 10000
     },
     "inputWidgets": {},
     "nuid": "fabb037a-08f2-4261-a0f4-4b9b88b2bd35",
     "showTitle": false,
     "title": ""
    }
   },
   "outputs": [
    {
     "output_type": "stream",
     "name": "stdout",
     "output_type": "stream",
     "text": [
      "+------+-----------------+\n|gender|      avg(salary)|\n+------+-----------------+\n|     M|73333.33333333333|\n|     F|          77500.0|\n+------+-----------------+\n\n"
     ]
    }
   ],
   "source": [
    "df.groupBy(\"gender\").avg(\"salary\").show()"
   ]
  },
  {
   "cell_type": "code",
   "execution_count": 0,
   "metadata": {
    "application/vnd.databricks.v1+cell": {
     "cellMetadata": {
      "byteLimit": 2048000,
      "rowLimit": 10000
     },
     "inputWidgets": {},
     "nuid": "18088245-90f8-4702-833b-f98ec9848620",
     "showTitle": false,
     "title": ""
    }
   },
   "outputs": [
    {
     "output_type": "stream",
     "name": "stdout",
     "output_type": "stream",
     "text": [
      "+-------------+-----------+-----+------+---+-----+\n|employee_name| department|state|salary|age|bonus|\n+-------------+-----------+-----+------+---+-----+\n|        Alice|Engineering|   CA| 80000| 34|10000|\n|          Bob|  Marketing|   NY| 75000| 45| 8000|\n|      Charlie|    Finance|   TX| 90000| 27|12000|\n|        David|         HR|   FL| 70000| 39| 7500|\n|         Emma| Operations|   IL| 85000| 32|11000|\n|        Frank|         IT|   WA| 95000| 41|13000|\n+-------------+-----------+-----+------+---+-----+\n\n"
     ]
    }
   ],
   "source": [
    "data_dept = [\n",
    "    (\"Alice\", \"Engineering\", \"CA\", 80000, 34, 10000),\n",
    "    (\"Bob\", \"Marketing\", \"NY\", 75000, 45, 8000),\n",
    "    (\"Charlie\", \"Finance\", \"TX\", 90000, 27, 12000),\n",
    "    (\"David\", \"HR\", \"FL\", 70000, 39, 7500),\n",
    "    (\"Emma\", \"Operations\", \"IL\", 85000, 32, 11000),\n",
    "    (\"Frank\", \"IT\", \"WA\", 95000, 41, 13000)\n",
    "]\n",
    "columns_dept = [\"employee_name\", \"department\", \"state\", \"salary\", \"age\", \"bonus\"]\n",
    "deptdf = spark.createDataFrame(data = data_dept, schema = columns_dept)\n",
    "\n",
    "deptdf.show()"
   ]
  },
  {
   "cell_type": "code",
   "execution_count": 0,
   "metadata": {
    "application/vnd.databricks.v1+cell": {
     "cellMetadata": {
      "byteLimit": 2048000,
      "rowLimit": 10000
     },
     "inputWidgets": {},
     "nuid": "489c8dd1-1144-47bb-aedd-78cd523c5f70",
     "showTitle": false,
     "title": ""
    }
   },
   "outputs": [
    {
     "output_type": "stream",
     "name": "stdout",
     "output_type": "stream",
     "text": [
      "root\n |-- employee_name: string (nullable = true)\n |-- department: string (nullable = true)\n |-- state: string (nullable = true)\n |-- salary: long (nullable = true)\n |-- age: long (nullable = true)\n |-- bonus: long (nullable = true)\n\n"
     ]
    }
   ],
   "source": [
    "deptdf.printSchema()"
   ]
  },
  {
   "cell_type": "code",
   "execution_count": 0,
   "metadata": {
    "application/vnd.databricks.v1+cell": {
     "cellMetadata": {
      "byteLimit": 2048000,
      "rowLimit": 10000
     },
     "inputWidgets": {},
     "nuid": "4ab6a034-d911-4608-bcb0-83e917b614c6",
     "showTitle": false,
     "title": ""
    }
   },
   "outputs": [],
   "source": [
    "data_dept_name = [\n",
    "    (\"Engineering\", 1),\n",
    "    (\"Marketing\", 2),\n",
    "    (\"Finance\", 3),\n",
    "    (\"HR\", 4),\n",
    "    (\"Operations\", 5),\n",
    "    (\"IT\", 6)\n",
    "]\n",
    "columns_1 = [\"dept_name\",\"id\"]\n",
    "\n",
    "dept_name = spark.createDataFrame(data = data_dept_name,schema = columns_1)"
   ]
  },
  {
   "cell_type": "code",
   "execution_count": 0,
   "metadata": {
    "application/vnd.databricks.v1+cell": {
     "cellMetadata": {
      "byteLimit": 2048000,
      "rowLimit": 10000
     },
     "inputWidgets": {},
     "nuid": "42531231-129c-4583-8188-e20e99be978a",
     "showTitle": false,
     "title": ""
    }
   },
   "outputs": [
    {
     "output_type": "stream",
     "name": "stdout",
     "output_type": "stream",
     "text": [
      "+-----------+---+\n|  dept_name| id|\n+-----------+---+\n|Engineering|  1|\n|  Marketing|  2|\n|    Finance|  3|\n|         HR|  4|\n| Operations|  5|\n|         IT|  6|\n+-----------+---+\n\n"
     ]
    }
   ],
   "source": [
    "dept_name.show()"
   ]
  },
  {
   "cell_type": "code",
   "execution_count": 0,
   "metadata": {
    "application/vnd.databricks.v1+cell": {
     "cellMetadata": {
      "byteLimit": 2048000,
      "rowLimit": 10000
     },
     "inputWidgets": {},
     "nuid": "4cbdb34d-4f44-48fd-a1e3-dfa99b643f3e",
     "showTitle": false,
     "title": ""
    }
   },
   "outputs": [
    {
     "output_type": "stream",
     "name": "stdout",
     "output_type": "stream",
     "text": [
      "+-------------+-----------+-----+------+---+-----+\n|employee_name| department|state|salary|age|bonus|\n+-------------+-----------+-----+------+---+-----+\n|        Alice|Engineering|   CA| 80000| 34|10000|\n|          Bob|  Marketing|   NY| 75000| 45| 8000|\n|      Charlie|    Finance|   TX| 90000| 27|12000|\n|        David|         HR|   FL| 70000| 39| 7500|\n|         Emma| Operations|   IL| 85000| 32|11000|\n|        Frank|         IT|   WA| 95000| 41|13000|\n+-------------+-----------+-----+------+---+-----+\n\n"
     ]
    }
   ],
   "source": [
    "\n",
    "deptdf.show()"
   ]
  },
  {
   "cell_type": "code",
   "execution_count": 0,
   "metadata": {
    "application/vnd.databricks.v1+cell": {
     "cellMetadata": {
      "byteLimit": 2048000,
      "rowLimit": 10000
     },
     "inputWidgets": {},
     "nuid": "11ec0f9d-df64-4432-9f4e-3e88751ca8d0",
     "showTitle": false,
     "title": ""
    }
   },
   "outputs": [
    {
     "output_type": "stream",
     "name": "stdout",
     "output_type": "stream",
     "text": [
      "+-------------+-----------+-----+------+---+-----+-----------+---+\n|employee_name| department|state|salary|age|bonus|  dept_name| id|\n+-------------+-----------+-----+------+---+-----+-----------+---+\n|        Alice|Engineering|   CA| 80000| 34|10000|Engineering|  1|\n|      Charlie|    Finance|   TX| 90000| 27|12000|    Finance|  3|\n|        David|         HR|   FL| 70000| 39| 7500|         HR|  4|\n|        Frank|         IT|   WA| 95000| 41|13000|         IT|  6|\n|          Bob|  Marketing|   NY| 75000| 45| 8000|  Marketing|  2|\n|         Emma| Operations|   IL| 85000| 32|11000| Operations|  5|\n+-------------+-----------+-----+------+---+-----+-----------+---+\n\n"
     ]
    }
   ],
   "source": [
    "\n",
    "deptdf.join(dept_name,deptdf.department ==dept_name.dept_name,\"inner\" ).show()"
   ]
  },
  {
   "cell_type": "code",
   "execution_count": 0,
   "metadata": {
    "application/vnd.databricks.v1+cell": {
     "cellMetadata": {
      "byteLimit": 2048000,
      "rowLimit": 10000
     },
     "inputWidgets": {},
     "nuid": "8280ca15-6531-44e9-a2cc-032280243140",
     "showTitle": false,
     "title": ""
    }
   },
   "outputs": [
    {
     "output_type": "stream",
     "name": "stdout",
     "output_type": "stream",
     "text": [
      "Employee DataFrame:\n+------+--------+-------+\n|emp_id|emp_name|dept_id|\n+------+--------+-------+\n|     1|   Alice|   1001|\n|     2|     Bob|   1002|\n|     3| Charlie|   1001|\n|     4|   David|   1003|\n|     5|    Emma|   1003|\n+------+--------+-------+\n\nDepartment DataFrame:\n+-------+-----------+\n|dept_id|  dept_name|\n+-------+-----------+\n|   1001|Engineering|\n|   1002|  Marketing|\n|   1003|    Finance|\n|   1004|         HR|\n+-------+-----------+\n\nInner Join Result:\n+-------+------+--------+-----------+\n|dept_id|emp_id|emp_name|  dept_name|\n+-------+------+--------+-----------+\n|   1001|     1|   Alice|Engineering|\n|   1001|     3| Charlie|Engineering|\n|   1002|     2|     Bob|  Marketing|\n|   1003|     4|   David|    Finance|\n|   1003|     5|    Emma|    Finance|\n+-------+------+--------+-----------+\n\n"
     ]
    }
   ],
   "source": [
    "from pyspark.sql import SparkSession\n",
    "\n",
    "# Create SparkSession\n",
    "spark = SparkSession.builder \\\n",
    "    .appName(\"Learning Joins\") \\\n",
    "    .getOrCreate()\n",
    "\n",
    "# Sample data for employee DataFrame\n",
    "employee_data = [\n",
    "    (1, \"Alice\", 1001),\n",
    "    (2, \"Bob\", 1002),\n",
    "    (3, \"Charlie\", 1001),\n",
    "    (4, \"David\", 1003),\n",
    "    (5, \"Emma\", 1003)\n",
    "]\n",
    "employee_columns = [\"emp_id\", \"emp_name\", \"dept_id\"]\n",
    "employee_df = spark.createDataFrame(employee_data, employee_columns)\n",
    "\n",
    "# Sample data for department DataFrame\n",
    "department_data = [\n",
    "    (1001, \"Engineering\"),\n",
    "    (1002, \"Marketing\"),\n",
    "    (1003, \"Finance\"),\n",
    "    (1004, \"HR\")\n",
    "]\n",
    "department_columns = [\"dept_id\", \"dept_name\"]\n",
    "department_df = spark.createDataFrame(department_data, department_columns)\n",
    "\n",
    "# Display the DataFrames\n",
    "print(\"Employee DataFrame:\")\n",
    "employee_df.show()\n",
    "\n",
    "print(\"Department DataFrame:\")\n",
    "department_df.show()\n",
    "\n",
    "# Perform inner join\n",
    "inner_join_df = employee_df.join(department_df, on=\"dept_id\", how=\"inner\")\n",
    "print(\"Inner Join Result:\")\n",
    "inner_join_df.show()\n"
   ]
  },
  {
   "cell_type": "code",
   "execution_count": 0,
   "metadata": {
    "application/vnd.databricks.v1+cell": {
     "cellMetadata": {
      "byteLimit": 2048000,
      "rowLimit": 10000
     },
     "inputWidgets": {},
     "nuid": "013de05d-3fd2-4f8b-a5d4-e13da13a9ec4",
     "showTitle": false,
     "title": ""
    }
   },
   "outputs": [
    {
     "output_type": "stream",
     "name": "stdout",
     "output_type": "stream",
     "text": [
      "+------+--------+-------+-------+-----------+\n|emp_id|emp_name|dept_id|dept_id|  dept_name|\n+------+--------+-------+-------+-----------+\n|     1|   Alice|   1001|   1001|Engineering|\n|     2|     Bob|   1002|   1002|  Marketing|\n|     3| Charlie|   1001|   1001|Engineering|\n|     4|   David|   1003|   1003|    Finance|\n|     5|    Emma|   1003|   1003|    Finance|\n+------+--------+-------+-------+-----------+\n\n"
     ]
    }
   ],
   "source": [
    "employee_df.join(department_df,employee_df.dept_id == department_df.dept_id,\"left\").show()"
   ]
  },
  {
   "cell_type": "code",
   "execution_count": 0,
   "metadata": {
    "application/vnd.databricks.v1+cell": {
     "cellMetadata": {
      "byteLimit": 2048000,
      "rowLimit": 10000
     },
     "inputWidgets": {},
     "nuid": "071d6a42-86d8-460d-87d9-cefeaac0c57a",
     "showTitle": false,
     "title": ""
    }
   },
   "outputs": [
    {
     "output_type": "stream",
     "name": "stdout",
     "output_type": "stream",
     "text": [
      "+------+--------+-------+-------+-----------+\n|emp_id|emp_name|dept_id|dept_id|  dept_name|\n+------+--------+-------+-------+-----------+\n|     1|   Alice|   1001|   1001|Engineering|\n|     3| Charlie|   1001|   1001|Engineering|\n|     2|     Bob|   1002|   1002|  Marketing|\n|     4|   David|   1003|   1003|    Finance|\n|     5|    Emma|   1003|   1003|    Finance|\n|  null|    null|   null|   1004|         HR|\n+------+--------+-------+-------+-----------+\n\n"
     ]
    }
   ],
   "source": [
    "employee_df.join(department_df,employee_df.dept_id == department_df.dept_id,\"outer\").show()"
   ]
  },
  {
   "cell_type": "code",
   "execution_count": 0,
   "metadata": {
    "application/vnd.databricks.v1+cell": {
     "cellMetadata": {
      "byteLimit": 2048000,
      "rowLimit": 10000
     },
     "inputWidgets": {},
     "nuid": "2285263a-8b5f-49f3-b52a-9a7f8f72aae3",
     "showTitle": false,
     "title": ""
    }
   },
   "outputs": [],
   "source": [
    "data_0 = [(\"Manju\",\"Student\",21),\n",
    "        (\"Mohan\",\"Police\",35),\n",
    "        (\"Ajay\",\"Judge\",44)\n",
    "]\n",
    "\n",
    "data1 = [(\"deepak\",\"lofer\",33),\n",
    "         (\"Man\",\"stadium gork\",66)]\n",
    "\n",
    "columns_n = [\"Name\",\"Job_title\",\"Age\"]\n",
    "\n",
    "df_data = spark.createDataFrame(data_0,columns_n)"
   ]
  },
  {
   "cell_type": "code",
   "execution_count": 0,
   "metadata": {
    "application/vnd.databricks.v1+cell": {
     "cellMetadata": {
      "byteLimit": 2048000,
      "rowLimit": 10000
     },
     "inputWidgets": {},
     "nuid": "9ba3e149-1c30-49ab-9187-e7d595093af2",
     "showTitle": false,
     "title": ""
    }
   },
   "outputs": [],
   "source": [
    "df_data_1 = spark.createDataFrame(data1,columns_n)"
   ]
  },
  {
   "cell_type": "code",
   "execution_count": 0,
   "metadata": {
    "application/vnd.databricks.v1+cell": {
     "cellMetadata": {
      "byteLimit": 2048000,
      "rowLimit": 10000
     },
     "inputWidgets": {},
     "nuid": "e269d234-72b4-45a2-8c8d-e977e0e5dc01",
     "showTitle": false,
     "title": ""
    }
   },
   "outputs": [
    {
     "output_type": "stream",
     "name": "stdout",
     "output_type": "stream",
     "text": [
      "+------+------------+---+\n|  Name|   Job_title|Age|\n+------+------------+---+\n|deepak|       lofer| 33|\n|   Man|stadium gork| 66|\n+------+------------+---+\n\n+-----+---------+---+\n| Name|Job_title|Age|\n+-----+---------+---+\n|Manju|  Student| 21|\n|Mohan|   Police| 35|\n| Ajay|    Judge| 44|\n+-----+---------+---+\n\n"
     ]
    }
   ],
   "source": [
    "df_data_1.show()\n",
    "df_data.show()"
   ]
  },
  {
   "cell_type": "code",
   "execution_count": 0,
   "metadata": {
    "application/vnd.databricks.v1+cell": {
     "cellMetadata": {
      "byteLimit": 2048000,
      "rowLimit": 10000
     },
     "inputWidgets": {},
     "nuid": "ac6621ee-0214-487e-a672-c215dd7aa206",
     "showTitle": false,
     "title": ""
    }
   },
   "outputs": [
    {
     "output_type": "stream",
     "name": "stdout",
     "output_type": "stream",
     "text": [
      "+------+------------+---+\n|  Name|   Job_title|Age|\n+------+------------+---+\n| Manju|     Student| 21|\n| Mohan|      Police| 35|\n|  Ajay|       Judge| 44|\n|deepak|       lofer| 33|\n|   Man|stadium gork| 66|\n+------+------------+---+\n\n"
     ]
    }
   ],
   "source": [
    "df_data.union(df_data_1).show()"
   ]
  },
  {
   "cell_type": "code",
   "execution_count": 0,
   "metadata": {
    "application/vnd.databricks.v1+cell": {
     "cellMetadata": {
      "byteLimit": 2048000,
      "rowLimit": 10000
     },
     "inputWidgets": {},
     "nuid": "006c6fdc-10a5-422a-b54c-41d407575c21",
     "showTitle": false,
     "title": ""
    }
   },
   "outputs": [],
   "source": [
    "# Sample employee data\n",
    "data_employee = [\n",
    "    (\"1\", \"Alice\", \"Engineering\", 100000),\n",
    "    (\"2\", \"Bob\", \"Marketing\", 90000),\n",
    "    (\"3\", \"Charlie\", \"Finance\", 110000)\n",
    "]\n",
    "columns_employee = [\"emp_id\", \"emp_name\", \"department\", \"salary\"]\n",
    "\n",
    "# Sample department data\n",
    "data_department = [\n",
    "    (\"1001\", \"Engineering\", \"San Francisco\"),\n",
    "    (\"1002\", \"Marketing\", \"New York\"),\n",
    "    (\"1003\", \"Finance\", \"Chicago\")\n",
    "]\n",
    "columns_department = [\"dept_id\", \"department\", \"location\"]\n",
    "\n",
    "\n",
    "df1 = spark.createDataFrame(data_employee,columns_employee)\n",
    "\n",
    "df2 = spark.createDataFrame(data_department,columns_department)\n"
   ]
  },
  {
   "cell_type": "code",
   "execution_count": 0,
   "metadata": {
    "application/vnd.databricks.v1+cell": {
     "cellMetadata": {
      "byteLimit": 2048000,
      "rowLimit": 10000
     },
     "inputWidgets": {},
     "nuid": "ed78b052-961d-4182-970c-27be268495c1",
     "showTitle": false,
     "title": ""
    }
   },
   "outputs": [
    {
     "output_type": "stream",
     "name": "stdout",
     "output_type": "stream",
     "text": [
      "+------+--------+-----------+------+\n|emp_id|emp_name| department|salary|\n+------+--------+-----------+------+\n|     1|   Alice|Engineering|100000|\n|     2|     Bob|  Marketing| 90000|\n|     3| Charlie|    Finance|110000|\n+------+--------+-----------+------+\n\n+-------+-----------+-------------+\n|dept_id| department|     location|\n+-------+-----------+-------------+\n|   1001|Engineering|San Francisco|\n|   1002|  Marketing|     New York|\n|   1003|    Finance|      Chicago|\n+-------+-----------+-------------+\n\n"
     ]
    }
   ],
   "source": [
    "df1.show()\n",
    "df2.show()"
   ]
  },
  {
   "cell_type": "code",
   "execution_count": 0,
   "metadata": {
    "application/vnd.databricks.v1+cell": {
     "cellMetadata": {
      "byteLimit": 2048000,
      "rowLimit": 10000
     },
     "inputWidgets": {},
     "nuid": "1185c2ad-0062-49ff-94ab-71d18e188079",
     "showTitle": false,
     "title": ""
    }
   },
   "outputs": [
    {
     "output_type": "stream",
     "name": "stdout",
     "output_type": "stream",
     "text": [
      "+------+--------+-----------+------+-------+-----------+-------------+\n|emp_id|emp_name| department|salary|dept_id| department|     location|\n+------+--------+-----------+------+-------+-----------+-------------+\n|     1|   Alice|Engineering|100000|   1001|Engineering|San Francisco|\n|     3| Charlie|    Finance|110000|   1003|    Finance|      Chicago|\n|     2|     Bob|  Marketing| 90000|   1002|  Marketing|     New York|\n+------+--------+-----------+------+-------+-----------+-------------+\n\n"
     ]
    }
   ],
   "source": [
    "df1.join(df2,df1.department==df2.department,\"inner\").show()"
   ]
  },
  {
   "cell_type": "code",
   "execution_count": 0,
   "metadata": {
    "application/vnd.databricks.v1+cell": {
     "cellMetadata": {
      "byteLimit": 2048000,
      "rowLimit": 10000
     },
     "inputWidgets": {},
     "nuid": "e16b92d9-ef1d-48db-9afd-de7c89764ccb",
     "showTitle": false,
     "title": ""
    }
   },
   "outputs": [
    {
     "output_type": "stream",
     "name": "stdout",
     "output_type": "stream",
     "text": [
      "+------+--------+-----------+------+-------+-----------+-------------+\n|emp_id|emp_name| department|salary|dept_id| department|     location|\n+------+--------+-----------+------+-------+-----------+-------------+\n|     1|   Alice|Engineering|100000|   1001|Engineering|San Francisco|\n|     3| Charlie|    Finance|110000|   1003|    Finance|      Chicago|\n|     2|     Bob|  Marketing| 90000|   1002|  Marketing|     New York|\n+------+--------+-----------+------+-------+-----------+-------------+\n\n"
     ]
    }
   ],
   "source": [
    "df1.join(df2,df1.department == df2.department,\"outer\").show()"
   ]
  }
 ],
 "metadata": {
  "application/vnd.databricks.v1+notebook": {
   "dashboards": [],
   "language": "python",
   "notebookMetadata": {
    "pythonIndentUnit": 4
   },
   "notebookName": "PySpark- Class (1)",
   "widgets": {}
  }
 },
 "nbformat": 4,
 "nbformat_minor": 0
}
